{
  "nbformat": 4,
  "nbformat_minor": 0,
  "metadata": {
    "colab": {
      "provenance": []
    },
    "kernelspec": {
      "name": "python3",
      "display_name": "Python 3"
    },
    "language_info": {
      "name": "python"
    }
  },
  "cells": [
    {
      "cell_type": "code",
      "execution_count": 11,
      "metadata": {
        "colab": {
          "base_uri": "https://localhost:8080/"
        },
        "id": "D9LkFIsXpabO",
        "outputId": "4d3a691a-d5d2-4752-ebf9-6cf84eec87da"
      },
      "outputs": [
        {
          "output_type": "stream",
          "name": "stdout",
          "text": [
            "\n",
            "=== Dirty Read Problem Simulation ===\n",
            "Enter the initial balance of account A: 300\n",
            "\n",
            "[TX Configuration]\n",
            "Enter the amount to add by TX: 50\n",
            "\n",
            "[TX] Starts\n",
            "[TX - t1] Reads balance: $300\n",
            "[TX - t2] Adds $50, new local balance: $350\n",
            "[TX - t3] Writes updated balance locally(not committed): $350\n",
            "[TY] Starts\n",
            "[TY - t4] Reads balance: $350\n",
            "\n",
            "[TY - t6] Commits balance: $350\n",
            "[TX - t5] Rollback: Reverting to initial balance: $300\n",
            "\n",
            "Final balance after simulation: 300\n",
            "\n",
            "=== Explanation of Dirty Read Problem ===\n",
            "At time t1, Transaction TX reads the balance of account A, which is $300.\n",
            "At time t2, TX adds $50, so the new local balance becomes $350.\n",
            "At time t3, TX writes back the updated balance $350.\n",
            "At time t4, Transaction TY reads the uncommitted balance $350 (dirty read).\n",
            "At time t5, TX rolls back, reverting the balance to $300.\n",
            "However, TY commits the dirty read value at time t6, leading to incorrect and inconsistent data.\n",
            "This demonstrates the Dirty Read Problem: a transaction (TY) reads uncommitted changes from another transaction (TX), which may later be rolled back, causing integrity issues.\n"
          ]
        }
      ],
      "source": [
        "import threading\n",
        "import time\n",
        "\n",
        "# Shared database simulation\n",
        "database = {\"account_A\": 0}\n",
        "\n",
        "# Function for transaction TX\n",
        "def transaction_TX(amount):\n",
        "    \"\"\"\n",
        "    Transaction TX: Reads, modifies, writes, and then rolls back the balance of account A.\n",
        "    \"\"\"\n",
        "    print(\"\\n[TX] Starts\")\n",
        "    time.sleep(1)  # TX starts at t1\n",
        "    local_balance = database[\"account_A\"]\n",
        "    print(f\"[TX - t1] Reads balance: ${local_balance}\")\n",
        "\n",
        "    # Perform the addition\n",
        "    time.sleep(1)  # TX operates at t2\n",
        "    local_balance += amount\n",
        "    print(f\"[TX - t2] Adds ${amount}, new local balance: ${local_balance}\")\n",
        "\n",
        "    # TX writes the updated value at t3\n",
        "    time.sleep(1)\n",
        "    database[\"account_A\"] = local_balance\n",
        "    print(f\"[TX - t3] Writes updated balance locally(not committed): ${database['account_A']}\")\n",
        "\n",
        "    # Simulate rollback at t5\n",
        "    time.sleep(2)  # Allow TY to read before rollback\n",
        "    database[\"account_A\"] = database[\"initial_balance\"]  # Rollback to initial value\n",
        "    print(f\"[TX - t5] Rollback: Reverting to initial balance: ${database['account_A']}\")\n",
        "\n",
        "# Function for transaction TY\n",
        "def transaction_TY():\n",
        "    \"\"\"\n",
        "    Transaction TY: Reads the balance after TX modifies it but before TX rolls back.\n",
        "    \"\"\"\n",
        "    time.sleep(3)  # TY starts at t4, after TX writes the updated balance\n",
        "    print(\"\\n[TY] Starts\")\n",
        "    local_balance = database[\"account_A\"]\n",
        "    print(f\"[TY - t4] Reads balance: ${local_balance}\")\n",
        "\n",
        "    # TY commits the dirty read\n",
        "    time.sleep(1)  # TY commits at t6\n",
        "    database[\"account_A\"] = local_balance\n",
        "    print(f\"[TY - t6] Commits balance: ${database['account_A']}\")\n",
        "\n",
        "# Main simulation function\n",
        "def dirty_read_simulation():\n",
        "    \"\"\"\n",
        "    Simulates the Dirty Read Problem with user inputs for the initial balance and TX operation.\n",
        "    \"\"\"\n",
        "    print(\"\\n=== Dirty Read Problem Simulation ===\")\n",
        "    initial_balance = int(input(\"Enter the initial balance of account A: \"))\n",
        "    database[\"account_A\"] = initial_balance\n",
        "    database[\"initial_balance\"] = initial_balance  # Store initial balance for rollback\n",
        "\n",
        "    # TX configuration\n",
        "    print(\"\\n[TX Configuration]\")\n",
        "    tx_amount = int(input(\"Enter the amount to add by TX: \"))\n",
        "\n",
        "    # Start both transactions in threads\n",
        "    tx_thread = threading.Thread(target=transaction_TX, args=(tx_amount,))\n",
        "    ty_thread = threading.Thread(target=transaction_TY)\n",
        "\n",
        "    tx_thread.start()\n",
        "    ty_thread.start()\n",
        "\n",
        "    # Wait for both threads to finish\n",
        "    tx_thread.join()\n",
        "    ty_thread.join()\n",
        "\n",
        "    # Final output and explanation\n",
        "    print(\"\\nFinal balance after simulation:\", database[\"account_A\"])\n",
        "    print(\n",
        "        \"\\n=== Explanation of Dirty Read Problem ===\\n\"\n",
        "        f\"At time t1, Transaction TX reads the balance of account A, which is ${initial_balance}.\\n\"\n",
        "        f\"At time t2, TX adds ${tx_amount}, so the new local balance becomes ${initial_balance + tx_amount}.\\n\"\n",
        "        f\"At time t3, TX writes back the updated balance ${initial_balance + tx_amount}.\\n\"\n",
        "        f\"At time t4, Transaction TY reads the uncommitted balance ${initial_balance + tx_amount} (dirty read).\\n\"\n",
        "        f\"At time t5, TX rolls back, reverting the balance to ${initial_balance}.\\n\"\n",
        "        \"However, TY commits the dirty read value at time t6, leading to incorrect and inconsistent data.\\n\"\n",
        "        \"This demonstrates the Dirty Read Problem: a transaction (TY) reads uncommitted changes from another transaction (TX), \"\n",
        "        \"which may later be rolled back, causing integrity issues.\"\n",
        "    )\n",
        "\n",
        "# Run the simulation\n",
        "dirty_read_simulation()\n"
      ]
    },
    {
      "cell_type": "code",
      "source": [
        "a"
      ],
      "metadata": {
        "id": "wVjgRW-SpgRp"
      },
      "execution_count": null,
      "outputs": []
    }
  ]
}